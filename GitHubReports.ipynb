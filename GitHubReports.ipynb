{
 "cells": [
  {
   "cell_type": "markdown",
   "id": "9af9674c",
   "metadata": {
    "heading_collapsed": true
   },
   "source": [
    "# Introduction to GitHub Repo and Gists Reporting\n",
    "\n",
    "<p>This Notebook provides a basic reporting tool that creates a report based on either a users or an organizations repositories.  </p>\n",
    "<p>For organizations with a large number of repositories, a Filter List can be used to limit the number of repos returned.</p>\n",
    "<p>This Notebook also provides a basic reporting tool that creates a report of a users' Gists.  </p>"
   ]
  },
  {
   "cell_type": "markdown",
   "id": "dcb5105c",
   "metadata": {
    "hidden": true
   },
   "source": [
    "## About this Notebook\n",
    "This Notebook uses the following:\n",
    "\n",
    "* Python 3 \n",
    "* toc2 nbextension (optional) for displaying Table of Contents.\n",
    "* MikTex for nbconversion (optional) for converting notebook to pdf"
   ]
  },
  {
   "cell_type": "markdown",
   "id": "561d9896",
   "metadata": {
    "hidden": true
   },
   "source": [
    "## References and Info\n",
    "See command below for converting Notebook to web pdf without code cells and prompts\n",
    "```\n",
    "jupyter nbconvert .\\GitHubReports.ipynb --to webpdf --no-input --output myReport.pdf\n",
    "```"
   ]
  },
  {
   "cell_type": "markdown",
   "id": "40cb87a7",
   "metadata": {},
   "source": [
    "# GitHub Report\n",
    "<p>This report is a basic report based on either a users or an organizations GitHub repositories.  </p>"
   ]
  },
  {
   "cell_type": "markdown",
   "id": "3720f89e",
   "metadata": {},
   "source": [
    "## Prerequisites\n",
    "<p> This report requires a separate Git credentials file to be placed in same directory as notebook and a reporting strategy (choose eiter user or org)\n",
    "    </p>"
   ]
  },
  {
   "cell_type": "markdown",
   "id": "710988f4",
   "metadata": {},
   "source": [
    "### GitHub Credentials File Setup\n",
    "\n",
    "<div class=\"alert alert-block alert-info\">\n",
    "<b>Create security file:</b> \n",
    "<p>In the same directory as this Notebook, create a file - gitsecrets.py - and add the following:<br>\n",
    "    GITHUB_USER= Your Git User Name  <br>\n",
    "    GITHUB_TOKEN= Your Git Token\n",
    "</p>\n",
    "</div>\n",
    "\n",
    "<div class=\"alert alert-block alert-warning\"><b>GitHub API Limits: </b>You may reach a limit of API calls that GitHub will allow, ex. 2000 calls/minute.  Try to limit the number of repos/folders/files. </div>\n"
   ]
  },
  {
   "cell_type": "markdown",
   "id": "343e0097",
   "metadata": {},
   "source": [
    "## Initialize Report\n",
    "<p>Required steps before report can be executed</p>"
   ]
  },
  {
   "cell_type": "markdown",
   "id": "b8fbd814",
   "metadata": {},
   "source": [
    "### Import packages and Set Authorization\n",
    "Credentials file - ***gitsecrets.py*** - needs to be available"
   ]
  },
  {
   "cell_type": "code",
   "execution_count": null,
   "id": "e03e81e6",
   "metadata": {
    "ExecuteTime": {
     "end_time": "2022-01-06T15:56:08.611604Z",
     "start_time": "2022-01-06T15:56:08.589441Z"
    }
   },
   "outputs": [],
   "source": [
    "import requests\n",
    "import pprint\n",
    "from gitsecrets import GITHUB_USER,GITHUB_TOKEN\n",
    "from IPython.display import display, Math, HTML, Markdown\n",
    "\n",
    "display(HTML(\"<style>.container { width:80% !important; }</style>\"))\n",
    "display(HTML(\"<style>div.output_scroll { height: 70em; }</style>\"))\n",
    "\n",
    "# Create auth for Git credentials\n",
    "auth=requests.auth.HTTPBasicAuth( GITHUB_USER  ,GITHUB_TOKEN )\n",
    "print('Authorization set up for user: ', GITHUB_USER)"
   ]
  },
  {
   "cell_type": "markdown",
   "id": "d18f81d9",
   "metadata": {},
   "source": [
    "### Fetch Repos\n",
    "You will be prompted for User or Org"
   ]
  },
  {
   "cell_type": "code",
   "execution_count": null,
   "id": "a53b883e",
   "metadata": {
    "ExecuteTime": {
     "end_time": "2022-01-06T15:53:02.362974Z",
     "start_time": "2022-01-06T15:52:54.592923Z"
    }
   },
   "outputs": [],
   "source": [
    "print('Will the report be for a User or Org (User/Org)?')\n",
    "type = input()\n",
    "org = ''\n",
    "if type == \"U\" :\n",
    "    print('Your report will be base on your Git User')\n",
    "    repoUrl = 'https://api.github.com/user/repos' \n",
    "    repoResponse = requests.get(repoUrl, auth=auth)\n",
    "    print('Authorization Confirmed for user: ' + GITHUB_USER + ' Repo Url is: '+ repoUrl)\n",
    "elif type == \"O\":\n",
    "    print('Report will be based on your organization, please type name of org:')\n",
    "    org = input()\n",
    "    repoUrl = 'https://api.github.com/orgs/' + org + '/repos'\n",
    "    repoResponse = requests.get(repoUrl, auth=auth)\n",
    "    print('Authorization Confirmed for user: ' + GITHUB_USER + ' Repo Url is: '+ repoUrl)\n",
    "else :\n",
    "    print ('Error, try again')\n",
    "reposFilterUrls =[]"
   ]
  },
  {
   "cell_type": "markdown",
   "id": "e66f276b",
   "metadata": {},
   "source": [
    "## Repos/Filter List \n",
    "* Filter List (optional) \n",
    "* Repos List (required)"
   ]
  },
  {
   "cell_type": "markdown",
   "id": "750eeed2",
   "metadata": {},
   "source": [
    "### Create Repo Filter List (optional)\n",
    "<p>Append name of desired repos to the reposFilterUrls List, as required</p>\n",
    "Example:  reposFilterUrls.append('myTestRepo')"
   ]
  },
  {
   "cell_type": "code",
   "execution_count": null,
   "id": "80ab91e2",
   "metadata": {
    "ExecuteTime": {
     "end_time": "2022-01-06T15:53:56.706056Z",
     "start_time": "2022-01-06T15:53:56.691911Z"
    }
   },
   "outputs": [],
   "source": [
    "tmpReposFilterUrls = []\n",
    "# Add Filters as required as show below\n",
    "# tmpReposFilterUrls.append('JupyterCloud')\n",
    "tmpReposFilterUrls.append('truccr_oci-iac')\n",
    "# tmpReposFilterUrls.append('truccr_oci-ca-dumptruck')\n",
    "# tmpReposFilterUrls.append('truccr_oci-manual-transmission')\n",
    "# tmpReposFilterUrls.append('truccr_atlas')\n",
    "\n",
    "print( 'Number of Filters: '  ,len(tmpReposFilterUrls))\n",
    "print('Filter List:')\n",
    "reposFilterUrls = []\n",
    "for rFilter in tmpReposFilterUrls:\n",
    "    if type == 'U':\n",
    "        urlExtn = 'user/repos/'\n",
    "    else:\n",
    "        urlExtn = 'repos/' + org + '/'\n",
    "    newFilter = 'https://api.github.com/' + urlExtn + rFilter \n",
    "    reposFilterUrls.append(newFilter  )\n",
    "    print(newFilter)\n"
   ]
  },
  {
   "cell_type": "markdown",
   "id": "4474bebb",
   "metadata": {},
   "source": [
    "### Create Repo List (required)\n",
    "<p>Run cell and verify repo count (Note: max repos is 30)</p>"
   ]
  },
  {
   "cell_type": "code",
   "execution_count": null,
   "id": "dfef8a2a",
   "metadata": {
    "ExecuteTime": {
     "end_time": "2022-01-06T15:54:17.993694Z",
     "start_time": "2022-01-06T15:54:17.607225Z"
    }
   },
   "outputs": [],
   "source": [
    "repos =[]\n",
    "if reposFilterUrls is not None and len(reposFilterUrls) > 0:\n",
    "    for reposFilterUrl in reposFilterUrls:\n",
    "        resp = repoResponse = requests.get(reposFilterUrl, auth=auth)\n",
    "        repos.append(resp.json())\n",
    "else:\n",
    "    for repoR in repoResponse.json():\n",
    "        repos.append(repoR)\n",
    "print( 'Number of Repos Found: '  ,len(repos))\n"
   ]
  },
  {
   "cell_type": "markdown",
   "id": "c70d0948",
   "metadata": {},
   "source": [
    "## Repository Report"
   ]
  },
  {
   "cell_type": "code",
   "execution_count": null,
   "id": "770a9470",
   "metadata": {
    "ExecuteTime": {
     "end_time": "2022-01-06T19:25:59.333047Z",
     "start_time": "2022-01-06T19:25:54.349604Z"
    },
    "code_folding": [
     12,
     17,
     32
    ]
   },
   "outputs": [],
   "source": [
    "for repo in repos :\n",
    "    print( 'Repo:',repo[\"name\"])\n",
    "    print('    Private:     ', repo['private'])\n",
    "    print('    HTTPS URL:   ', repo['clone_url'])\n",
    "    print('    SSH URL:     ', repo['ssh_url'])    \n",
    "    contentsUrl = repo['contents_url']\n",
    "    print('    Contents URL:' ,contentsUrl.replace('{+path}',''))\n",
    "    contents = requests.get(contentsUrl.replace('{+path}',''),auth=auth)\n",
    "    cFileList = []  ;   cDirList = []\n",
    "    [cFileList.append(x) for x in contents.json() if x['type'] == 'file' ]\n",
    "#- Files\n",
    "    print('    Files:')\n",
    "    for content in cFileList:\n",
    "        print('       ', content['name'])\n",
    "    [cDirList.append(x) for x in contents.json() if x['type'] == 'dir' ]\n",
    "#- Folders\n",
    "    print('    Folders:')\n",
    "    for content in cDirList:\n",
    "        print('       ', '/' + content['name'])\n",
    "\n",
    "#- Branches\n",
    "    print('    Branches:')\n",
    "    branchs = requests.get(repo['branches_url'].replace('{/branch}',''),auth=auth)\n",
    "    for branch in branchs.json():\n",
    "        print('         ' ,branch['name'])\n",
    "        branchContents = requests.get(repo['branches_url'].replace('{/branch}','/'+branch['name'])\n",
    "                                      ,auth=auth)\n",
    "        branchContent = branchContents.json()['commit']['commit']\n",
    "        print('              Author:',branchContent['author'] ['name'])\n",
    "        print('              Date:  ' ,branchContent ['author'] ['date'] )             \n",
    "#-Folder Contents\n",
    "    print('    Folder Contents:')\n",
    "    for folder in cDirList:\n",
    "        print('        /'+ folder['name'])\n",
    "        fContents = requests.get(folder['url'] , auth=auth   )\n",
    "        cFileList2 = []  ;   cDirList2 = []\n",
    "        [cFileList2.append(x) for x in fContents.json() if x['type'] == 'file' ]\n",
    "        for content in cFileList2:\n",
    "            print('           '+ content['name'])\n",
    "        [cDirList2.append(x) for x in fContents.json() if x['type'] == 'dir' ]            \n",
    "        for content in cDirList2:\n",
    "            print('           /'+ content['name'])     \n",
    "            folder2 = folder['name'] + '/' + content['name']\n",
    "#             print(contentsUrl.replace('{+path}',folder2 ))\n",
    "            fContents2 = requests.get(contentsUrl.replace('{+path}',folder2),auth=auth)\n",
    "            cFileList3 = []  ;   cDirList3 = []\n",
    "            [cFileList3.append(x) for x in fContents2.json() if x['type'] == 'file' ]    \n",
    "            for content2 in cFileList3:\n",
    "                print('               ', content2['name'] )\n",
    "            [cDirList3.append(x) for x in fContents2.json() if x['type'] == 'dir' ] \n",
    "            for content2 in cDirList3:\n",
    "                print('               /'+ content2['name'] )      \n",
    "                newDirName =  folder['name']  +'/'+content['name'] + '/' + content2['name']\n",
    "                fContents3 = requests.get(contentsUrl.replace('{+path}',newDirName),auth=auth)\n",
    "                cFileList4 = []  ;   cDirList4 = []\n",
    "                [cFileList4.append(x) for x in fContents3.json() if x['type'] == 'file' ]    \n",
    "                for content3 in cFileList4:\n",
    "                    print('                   ', content3['name'] )\n",
    "                [cDirList4.append(x) for x in fContents3.json() if x['type'] == 'dir' ]\n",
    "                for content3 in cDirList4:\n",
    "                    print('                   /'+ content3['name'] )   \n",
    "                    newDirName2 =  folder['name']  +'/'+content['name'] + '/' + content2['name'] \\\n",
    "                                 + '/' + content3['name']\n",
    "                    fContents4 = requests.get(contentsUrl.replace('{+path}',newDirName2),auth=auth)\n",
    "                    cFileList5 = []  ;   cDirList5 = []\n",
    "                    [cFileList5.append(x) for x in fContents4.json() if x['type'] == 'file' ]    \n",
    "                    for content4 in cFileList5:\n",
    "                        print('                       ', content4['name'] )\n",
    "                    [cDirList5.append(x) for x in fContents4.json() if x['type'] == 'dir' ]\n",
    "                    for content4 in cDirList5:\n",
    "                        print('                   /'+ content4['name'] )   \n",
    "#- Issues\n",
    "    print('    Open Issues:')\n",
    "    issues = requests.get(repo['issues_url'].replace('{/number}',''),auth=auth)\n",
    "    try:\n",
    "        for issue in issues.json():\n",
    "            if 'open' in issue['state']:\n",
    "                print('         ' ,str(issue['number']) + ' - ' +  issue['body'])   \n",
    "    except:\n",
    "        pass\n",
    "    print('\\n---' )\n",
    "print('----------')\n"
   ]
  },
  {
   "cell_type": "code",
   "execution_count": null,
   "id": "6ef9838e",
   "metadata": {
    "ExecuteTime": {
     "end_time": "2022-01-06T20:57:18.469928Z",
     "start_time": "2022-01-06T20:57:18.103409Z"
    }
   },
   "outputs": [],
   "source": [
    "for branch in branchs.json():\n",
    "    print('         ' ,branch['name'])\n",
    "    if branch['name'] == 'upd-terraform-resource-names':\n",
    "        myBranch = branch\n",
    "        myUrl = branch ['commit'] ['url']\n",
    "        break\n",
    "# pprint.pprint(myBranch)\n",
    "myBranchContents = requests.get(myUrl,auth=auth)\n",
    "# pprint.pprint(myBranchContents.json()['commit']['tree'] ['url']   )   \n",
    "myBranchTreeUrl = myBranchContents.json()['commit']['tree'] ['url'] \n",
    "print('My Branch URL: ' , myBranchTreeUrl )"
   ]
  },
  {
   "cell_type": "code",
   "execution_count": null,
   "id": "5de7b4e1",
   "metadata": {
    "ExecuteTime": {
     "end_time": "2022-01-06T20:04:39.798641Z",
     "start_time": "2022-01-06T20:04:36.655472Z"
    },
    "scrolled": true
   },
   "outputs": [],
   "source": [
    "x =requests.get(myBranchTreeUrl,auth=auth)\n",
    "\n",
    "for tree in x.json()['tree']  :\n",
    "    if tree['type'] == 'tree':\n",
    "        print(tree['path'] + '/'       )\n",
    "        x2 = requests.get(tree['url'] , auth=auth)\n",
    "        for tree2 in x2.json()['tree']:\n",
    "            print( '    ',  tree2['path'] + (  '/'  if tree2['type'] == 'tree' else ''  ) )\n",
    "            if tree2['type'] == 'tree' :\n",
    "                x3 = requests.get(tree2['url'] , auth=auth)\n",
    "                for tree3 in x3.json()['tree']:\n",
    "                    print( '        ',  tree3['path'] + (  '/'  if tree3['type'] == 'tree' else ''  ) )\n",
    "                    if tree3['type'] == 'tree' :\n",
    "                        x4 = requests.get(tree3['url'] , auth=auth)\n",
    "                        for tree4 in x4.json()['tree']:\n",
    "                            print( '            ',  tree4['path'] + (  '/'  if tree4['type'] == 'tree' else ''  ) )\n",
    "                            if tree4['type'] == 'tree' :\n",
    "                                x5 = requests.get(tree4['url'] , auth=auth)\n",
    "                                for tree5 in x5.json()['tree']:\n",
    "                                    print( '                ',  tree5['path'] + (  '/'  if tree5['type'] == 'tree' else ''  ) )\n"
   ]
  },
  {
   "cell_type": "code",
   "execution_count": null,
   "id": "e5861f92",
   "metadata": {
    "ExecuteTime": {
     "end_time": "2022-01-06T21:11:26.903446Z",
     "start_time": "2022-01-06T21:11:26.627007Z"
    }
   },
   "outputs": [],
   "source": [
    "\n",
    "commentsUrl =  requests.get(  myBranchContents.json()['comments_url']  , auth=auth)\n",
    "pprint.pprint(commentsUrl.json())"
   ]
  },
  {
   "cell_type": "markdown",
   "id": "1a9b16f3",
   "metadata": {},
   "source": [
    "# Gists Report"
   ]
  },
  {
   "cell_type": "markdown",
   "id": "b0a6936b",
   "metadata": {},
   "source": [
    "## Import Packages and Fetch Gists"
   ]
  },
  {
   "cell_type": "code",
   "execution_count": null,
   "id": "3432504f",
   "metadata": {
    "ExecuteTime": {
     "end_time": "2021-12-30T19:38:07.834468Z",
     "start_time": "2021-12-30T19:38:07.605482Z"
    }
   },
   "outputs": [],
   "source": [
    "import requests\n",
    "import pprint\n",
    "from gitsecrets import GITHUB_USER,GITHUB_TOKEN\n",
    "# Create auth for Git credentials\n",
    "auth=requests.auth.HTTPBasicAuth( GITHUB_USER  ,GITHUB_TOKEN )\n",
    "\n",
    "userRepoUrl = 'https://api.github.com/gists'\n",
    "myGistsUrl = userRepoUrl\n",
    "repoResponse = requests.get(myGistsUrl, auth=auth)"
   ]
  },
  {
   "cell_type": "markdown",
   "id": "77f00c9a",
   "metadata": {},
   "source": [
    "## Gists Report"
   ]
  },
  {
   "cell_type": "code",
   "execution_count": null,
   "id": "baedd36d",
   "metadata": {
    "ExecuteTime": {
     "end_time": "2021-12-30T19:38:13.474480Z",
     "start_time": "2021-12-30T19:38:13.458301Z"
    }
   },
   "outputs": [],
   "source": [
    "gists = repoResponse.json()\n",
    "for gist in gists:\n",
    "    print( gist['description'])\n",
    "    print('    Updated: ', gist['updated_at']  )\n",
    "    print('    Type:    ', 'Public' if gist['public'] else 'Private' )\n",
    "    print('    Html Url: ', gist['html_url']  )\n",
    "    print('    Comments: ', gist['comments']  )\n",
    "    \n",
    "    forks = requests.get(gist['forks_url'],auth=auth)\n",
    "    print('    Forks:    ',str(len(forks.json())))\n",
    "    files = gist['files']\n",
    "    print('    Files:')\n",
    "    for file,extra in files.items():\n",
    "        print('        File: ',file)\n",
    "    print('--')\n",
    "print('\\n----------')"
   ]
  },
  {
   "cell_type": "code",
   "execution_count": null,
   "id": "198f0b53",
   "metadata": {},
   "outputs": [],
   "source": []
  }
 ],
 "metadata": {
  "kernelspec": {
   "display_name": "Python 3 (ipykernel)",
   "language": "python",
   "name": "python3"
  },
  "language_info": {
   "codemirror_mode": {
    "name": "ipython",
    "version": 3
   },
   "file_extension": ".py",
   "mimetype": "text/x-python",
   "name": "python",
   "nbconvert_exporter": "python",
   "pygments_lexer": "ipython3",
   "version": "3.8.10"
  },
  "toc": {
   "base_numbering": 1,
   "nav_menu": {},
   "number_sections": true,
   "sideBar": true,
   "skip_h1_title": false,
   "title_cell": "Table of Contents",
   "title_sidebar": "Contents",
   "toc_cell": false,
   "toc_position": {
    "height": "411.964px",
    "left": "46px",
    "top": "207.968px",
    "width": "310.962px"
   },
   "toc_section_display": true,
   "toc_window_display": true
  },
  "varInspector": {
   "cols": {
    "lenName": 16,
    "lenType": 16,
    "lenVar": 40
   },
   "kernels_config": {
    "python": {
     "delete_cmd_postfix": "",
     "delete_cmd_prefix": "del ",
     "library": "var_list.py",
     "varRefreshCmd": "print(var_dic_list())"
    },
    "r": {
     "delete_cmd_postfix": ") ",
     "delete_cmd_prefix": "rm(",
     "library": "var_list.r",
     "varRefreshCmd": "cat(var_dic_list()) "
    }
   },
   "types_to_exclude": [
    "module",
    "function",
    "builtin_function_or_method",
    "instance",
    "_Feature"
   ],
   "window_display": false
  }
 },
 "nbformat": 4,
 "nbformat_minor": 5
}
