{
 "cells": [
  {
   "cell_type": "markdown",
   "id": "9af9674c",
   "metadata": {
    "heading_collapsed": true
   },
   "source": [
    "# Introduction to GitHub Repo and Gists Reporting\n",
    "\n",
    "<p>This Notebook provides a basic reporting tool that creates a report based on either a users or an organizations repositories.  </p>\n",
    "<p>For organizations with a large number of repositories, a Filter List can be used to limit the number of repos returned.</p>\n",
    "<p>This Notebook also provides a basic reporting tool that creates a report of a users' Gists.  </p>"
   ]
  },
  {
   "cell_type": "markdown",
   "id": "dcb5105c",
   "metadata": {
    "hidden": true
   },
   "source": [
    "## About this Notebook\n",
    "This Notebook uses the following:\n",
    "\n",
    "* Python 3 \n",
    "* toc2 nbextension (optional) for displaying Table of Contents.\n",
    "* MikTex for nbconversion (optional) for converting notebook to pdf"
   ]
  },
  {
   "cell_type": "markdown",
   "id": "561d9896",
   "metadata": {
    "hidden": true
   },
   "source": [
    "## References and Info\n",
    "See command below for converting Notebook to web pdf without code cells and prompts\n",
    "```\n",
    "jupyter nbconvert .\\GitHubReports.ipynb --to webpdf --no-input --output myReport.pdf\n",
    "```"
   ]
  },
  {
   "cell_type": "markdown",
   "id": "40cb87a7",
   "metadata": {},
   "source": [
    "# GitHub Report\n",
    "<p>This report is a basic report based on either a users or an organizations GitHub repositories.  </p>"
   ]
  },
  {
   "cell_type": "markdown",
   "id": "3720f89e",
   "metadata": {},
   "source": [
    "## Prerequisites\n",
    "<p> This report requires a separate Git credentials file to be placed in same directory as notebook and a reporting strategy (choose eiter user or org)\n",
    "    </p>"
   ]
  },
  {
   "cell_type": "markdown",
   "id": "710988f4",
   "metadata": {},
   "source": [
    "### GitHub Credentials File Setup\n",
    "\n",
    "<div class=\"alert alert-block alert-info\">\n",
    "<b>Create security file:</b> \n",
    "<p>In the same directory as this Notebook, create a file - gitsecrets.py - and add the following:<br>\n",
    "    GITHUB_USER= Your Git User Name  <br>\n",
    "    GITHUB_TOKEN= Your Git Token\n",
    "</p>\n",
    "</div>\n",
    "\n",
    "<div class=\"alert alert-block alert-warning\"><b>GitHub API Limits: </b>You may reach a limit of API calls that GitHub will allow, ex. 2000 calls/minute.  Try to limit the number of repos/folders/files. </div>\n"
   ]
  },
  {
   "cell_type": "markdown",
   "id": "343e0097",
   "metadata": {},
   "source": [
    "## Initialize Report\n",
    "<p>Required steps before report can be executed</p>"
   ]
  },
  {
   "cell_type": "markdown",
   "id": "b8fbd814",
   "metadata": {},
   "source": [
    "### Import packages and Set Authorization\n",
    "Credentials file - ***gitsecrets.py*** - needs to be available"
   ]
  },
  {
   "cell_type": "code",
   "execution_count": 1,
   "id": "e03e81e6",
   "metadata": {
    "ExecuteTime": {
     "end_time": "2022-01-03T15:03:50.935103Z",
     "start_time": "2022-01-03T15:03:50.507121Z"
    }
   },
   "outputs": [
    {
     "name": "stdout",
     "output_type": "stream",
     "text": [
      "Authorization set up for user:  KevinWatersTR\n"
     ]
    }
   ],
   "source": [
    "import requests\n",
    "import pprint\n",
    "from gitsecrets import GITHUB_USER,GITHUB_TOKEN\n",
    "# Create auth for Git credentials\n",
    "auth=requests.auth.HTTPBasicAuth( GITHUB_USER  ,GITHUB_TOKEN )\n",
    "print('Authorization set up for user: ', GITHUB_USER)"
   ]
  },
  {
   "cell_type": "markdown",
   "id": "d18f81d9",
   "metadata": {},
   "source": [
    "### Fetch Repos\n",
    "You will be prompted for User or Org"
   ]
  },
  {
   "cell_type": "code",
   "execution_count": 2,
   "id": "a53b883e",
   "metadata": {
    "ExecuteTime": {
     "end_time": "2022-01-03T15:04:07.715554Z",
     "start_time": "2022-01-03T15:03:55.329510Z"
    }
   },
   "outputs": [
    {
     "name": "stdout",
     "output_type": "stream",
     "text": [
      "Will the report be for a User or Org (User/Org)?\n",
      "O\n",
      "Report will be based on your organization, please type name of org:\n",
      "tr\n",
      "Authorization Confirmed for user: KevinWatersTR Repo Url is: https://api.github.com/orgs/tr/repos\n"
     ]
    }
   ],
   "source": [
    "print('Will the report be for a User or Org (User/Org)?')\n",
    "type = input()\n",
    "org = ''\n",
    "if type == \"U\" :\n",
    "    print('Your report will be base on your Git User')\n",
    "    repoUrl = 'https://api.github.com/user/repos' \n",
    "    repoResponse = requests.get(repoUrl, auth=auth)\n",
    "    print('Authorization Confirmed for user: ' + GITHUB_USER + ' Repo Url is: '+ repoUrl)\n",
    "elif type == \"O\":\n",
    "    print('Report will be based on your organization, please type name of org:')\n",
    "    org = input()\n",
    "    repoUrl = 'https://api.github.com/orgs/' + org + '/repos'\n",
    "    repoResponse = requests.get(repoUrl, auth=auth)\n",
    "    print('Authorization Confirmed for user: ' + GITHUB_USER + ' Repo Url is: '+ repoUrl)\n",
    "else :\n",
    "    print ('Error, try again')\n",
    "reposFilterUrls =[]"
   ]
  },
  {
   "cell_type": "markdown",
   "id": "e66f276b",
   "metadata": {},
   "source": [
    "## Repos/Filter List \n",
    "* Filter List (optional) \n",
    "* Repos List (required)"
   ]
  },
  {
   "cell_type": "markdown",
   "id": "750eeed2",
   "metadata": {},
   "source": [
    "### Create Repo Filter List (optional)\n",
    "<p>Append name of desired repos to the reposFilterUrls List, as required</p>\n",
    "Example:  reposFilterUrls.append('myTestRepo')"
   ]
  },
  {
   "cell_type": "code",
   "execution_count": 18,
   "id": "80ab91e2",
   "metadata": {
    "ExecuteTime": {
     "end_time": "2022-01-03T16:13:49.491214Z",
     "start_time": "2022-01-03T16:13:49.468007Z"
    }
   },
   "outputs": [
    {
     "name": "stdout",
     "output_type": "stream",
     "text": [
      "Number of Filters:  1\n",
      "Filter List:\n",
      "https://api.github.com/repos/tr/truccr_oci-iac\n"
     ]
    }
   ],
   "source": [
    "tmpReposFilterUrls = []\n",
    "# Add Filters as required as show below\n",
    "# tmpReposFilterUrls.append('JupyterCloud')\n",
    "tmpReposFilterUrls.append('truccr_oci-iac')\n",
    "# tmpReposFilterUrls.append('truccr_oci-ca-dumptruck')\n",
    "# tmpReposFilterUrls.append('truccr_oci-manual-transmission')\n",
    "# tmpReposFilterUrls.append('truccr_atlas')\n",
    "\n",
    "print( 'Number of Filters: '  ,len(tmpReposFilterUrls))\n",
    "print('Filter List:')\n",
    "reposFilterUrls = []\n",
    "for rFilter in tmpReposFilterUrls:\n",
    "    if type == 'U':\n",
    "        urlExtn = 'user/repos/'\n",
    "    else:\n",
    "        urlExtn = 'repos/' + org + '/'\n",
    "    newFilter = 'https://api.github.com/' + urlExtn + rFilter \n",
    "    reposFilterUrls.append(newFilter  )\n",
    "    print(newFilter)\n"
   ]
  },
  {
   "cell_type": "markdown",
   "id": "4474bebb",
   "metadata": {},
   "source": [
    "### Create Repo List (required)\n",
    "<p>Run cell and verify repo count (Note: max repos is 30)</p>"
   ]
  },
  {
   "cell_type": "code",
   "execution_count": 19,
   "id": "dfef8a2a",
   "metadata": {
    "ExecuteTime": {
     "end_time": "2022-01-03T16:13:54.790001Z",
     "start_time": "2022-01-03T16:13:54.137668Z"
    }
   },
   "outputs": [
    {
     "name": "stdout",
     "output_type": "stream",
     "text": [
      "Number of Repos Found:  1\n"
     ]
    }
   ],
   "source": [
    "repos =[]\n",
    "if reposFilterUrls is not None and len(reposFilterUrls) > 0:\n",
    "    for reposFilterUrl in reposFilterUrls:\n",
    "        resp = repoResponse = requests.get(reposFilterUrl, auth=auth)\n",
    "        repos.append(resp.json())\n",
    "else:\n",
    "    for repoR in repoResponse.json():\n",
    "        repos.append(repoR)\n",
    "print( 'Number of Repos Found: '  ,len(repos))\n"
   ]
  },
  {
   "cell_type": "markdown",
   "id": "c70d0948",
   "metadata": {},
   "source": [
    "## Repository Report"
   ]
  },
  {
   "cell_type": "code",
   "execution_count": 20,
   "id": "770a9470",
   "metadata": {
    "ExecuteTime": {
     "end_time": "2022-01-03T16:14:02.614681Z",
     "start_time": "2022-01-03T16:13:57.258315Z"
    },
    "code_folding": [
     12,
     17,
     23
    ],
    "scrolled": true
   },
   "outputs": [
    {
     "name": "stdout",
     "output_type": "stream",
     "text": [
      "Repo: truccr_oci-iac\n",
      "    Private:      True\n",
      "    HTTPS URL:    https://github.com/tr/truccr_oci-iac.git\n",
      "    SSH URL:      git@github.com:tr/truccr_oci-iac.git\n",
      "    Contents URL: https://api.github.com/repos/tr/truccr_oci-iac/contents/\n",
      "    Files:\n",
      "        .gitignore\n",
      "        README.md\n",
      "    Folders:\n",
      "        /oci-arch-devops-function-stack-latest\n",
      "        /templates\n",
      "    Branches:\n",
      "          YosefEjiguTR-patch-1\n",
      "              Author: YosefEjiguTR\n",
      "              Date:   2021-08-26T02:20:15Z\n",
      "          ionut2\n",
      "              Author: Waters\n",
      "              Date:   2021-12-16T16:00:41Z\n",
      "          main\n",
      "              Author: Waters\n",
      "              Date:   2021-07-28T15:15:18Z\n",
      "          terra2\n",
      "              Author: KevinWatersTR\n",
      "              Date:   2021-12-23T17:02:17Z\n",
      "          terraform-code\n",
      "              Author: YosefEjiguTR\n",
      "              Date:   2021-11-15T22:04:56Z\n",
      "          terraform-v0\n",
      "              Author: KevinWatersTR\n",
      "              Date:   2021-12-13T15:34:34Z\n",
      "    Folder Contents:\n",
      "        /oci-arch-devops-function-stack-latest\n",
      "           README.md\n",
      "           datasources.tf\n",
      "           devops-policies.tf\n",
      "           devops-variables.tf\n",
      "           devops.tf\n",
      "           functions-policies.tf\n",
      "           functions-setup.tf\n",
      "           functions.tf\n",
      "           locals.tf\n",
      "           network.tf\n",
      "           providers.tf\n",
      "           schema.yaml\n",
      "           tags.tf\n",
      "           terraform.tfvars.example\n",
      "           tls.tf\n",
      "           variables.tf\n",
      "           /functions\n",
      "               /helloworldfn\n",
      "                    func.py\n",
      "                    func.yaml\n",
      "                    requirements.txt\n",
      "               /helloworldfn2\n",
      "                    func.py\n",
      "                    func.yaml\n",
      "                    requirements.txt\n",
      "           /images\n",
      "                dev-ops-deployment-pipeline.png\n",
      "        /templates\n",
      "           /TestTemplate\n",
      "                TestTemplate.tf\n",
      "    Open Issues:\n",
      "          4 - Created terraform_templates/speedometer folder from zipped file (tr_terraform_code_modules.zip) for easier access.  Removed old zip file.\n",
      "          3 - The latest version of the terraform code for standing up TRUCCR environment.\n",
      "\n",
      "---\n",
      "----------\n"
     ]
    }
   ],
   "source": [
    "for repo in repos :\n",
    "    print( 'Repo:',repo[\"name\"])\n",
    "    print('    Private:     ', repo['private'])\n",
    "    print('    HTTPS URL:   ', repo['clone_url'])\n",
    "    print('    SSH URL:     ', repo['ssh_url'])    \n",
    "    contentsUrl = repo['contents_url']\n",
    "    print('    Contents URL:' ,contentsUrl.replace('{+path}',''))\n",
    "    contents = requests.get(contentsUrl.replace('{+path}',''),auth=auth)\n",
    "    cFileList = []  ;   cDirList = []\n",
    "    [cFileList.append(x) for x in contents.json() if x['type'] == 'file' ]\n",
    "#- Files\n",
    "    print('    Files:')\n",
    "    for content in cFileList:\n",
    "        print('       ', content['name'])\n",
    "    [cDirList.append(x) for x in contents.json() if x['type'] == 'dir' ]\n",
    "#- Folders\n",
    "    print('    Folders:')\n",
    "    for content in cDirList:\n",
    "        print('       ', '/' + content['name'])\n",
    "\n",
    "#- Branches\n",
    "    print('    Branches:')\n",
    "    branchs = requests.get(repo['branches_url'].replace('{/branch}',''),auth=auth)\n",
    "    for branch in branchs.json():\n",
    "        print('         ' ,branch['name'])\n",
    "        branchContents = requests.get(repo['branches_url'].replace('{/branch}','/'+branch['name'])\n",
    "                                      ,auth=auth)\n",
    "        branchContent = branchContents.json()['commit']['commit']\n",
    "        print('              Author:',branchContent['author'] ['name'])\n",
    "        print('              Date:  ' ,branchContent ['author'] ['date'] )             \n",
    "#-Folder Contents\n",
    "    print('    Folder Contents:')\n",
    "    for folder in cDirList:\n",
    "        print('        /'+ folder['name'])\n",
    "        fContents = requests.get(folder['url'] , auth=auth   )\n",
    "        cFileList2 = []  ;   cDirList2 = []\n",
    "        [cFileList2.append(x) for x in fContents.json() if x['type'] == 'file' ]\n",
    "        for content in cFileList2:\n",
    "            print('           '+ content['name'])\n",
    "        [cDirList2.append(x) for x in fContents.json() if x['type'] == 'dir' ]            \n",
    "        for content in cDirList2:\n",
    "            print('           /'+ content['name'])     \n",
    "            folder2 = folder['name'] + '/' + content['name']\n",
    "#             print(contentsUrl.replace('{+path}',folder2 ))\n",
    "            fContents2 = requests.get(contentsUrl.replace('{+path}',folder2),auth=auth)\n",
    "            cFileList3 = []  ;   cDirList3 = []\n",
    "            [cFileList3.append(x) for x in fContents2.json() if x['type'] == 'file' ]    \n",
    "            for content2 in cFileList3:\n",
    "                print('               ', content2['name'] )\n",
    "            [cDirList3.append(x) for x in fContents2.json() if x['type'] == 'dir' ] \n",
    "            for content2 in cDirList3:\n",
    "                print('               /'+ content2['name'] )      \n",
    "                newDirName =  folder['name']  +'/'+content['name'] + '/' + content2['name']\n",
    "                fContents3 = requests.get(contentsUrl.replace('{+path}',newDirName),auth=auth)\n",
    "                cFileList4 = []  ;   cDirList4 = []\n",
    "                [cFileList4.append(x) for x in fContents3.json() if x['type'] == 'file' ]    \n",
    "                for content3 in cFileList4:\n",
    "                    print('                   ', content3['name'] )\n",
    "                [cDirList4.append(x) for x in fContents3.json() if x['type'] == 'dir' ]\n",
    "                for content3 in cDirList4:\n",
    "                    print('                   /'+ content3['name'] )   \n",
    "                    newDirName2 =  folder['name']  +'/'+content['name'] + '/' + content2['name'] \\\n",
    "                                 + '/' + content3['name']\n",
    "                    fContents4 = requests.get(contentsUrl.replace('{+path}',newDirName2),auth=auth)\n",
    "                    cFileList5 = []  ;   cDirList5 = []\n",
    "                    [cFileList5.append(x) for x in fContents4.json() if x['type'] == 'file' ]    \n",
    "                    for content4 in cFileList5:\n",
    "                        print('                       ', content4['name'] )\n",
    "                    [cDirList5.append(x) for x in fContents4.json() if x['type'] == 'dir' ]\n",
    "                    for content4 in cDirList5:\n",
    "                        print('                   /'+ content4['name'] )   \n",
    "#- Issues\n",
    "    print('    Open Issues:')\n",
    "    issues = requests.get(repo['issues_url'].replace('{/number}',''),auth=auth)\n",
    "    try:\n",
    "        for issue in issues.json():\n",
    "            if 'open' in issue['state']:\n",
    "                print('         ' ,str(issue['number']) + ' - ' +  issue['body'])   \n",
    "    except:\n",
    "        pass\n",
    "    print('\\n---' )\n",
    "print('----------')\n"
   ]
  },
  {
   "cell_type": "markdown",
   "id": "1a9b16f3",
   "metadata": {
    "heading_collapsed": true
   },
   "source": [
    "# Gists Report"
   ]
  },
  {
   "cell_type": "markdown",
   "id": "b0a6936b",
   "metadata": {
    "hidden": true
   },
   "source": [
    "## Import Packages and Fetch Gists"
   ]
  },
  {
   "cell_type": "code",
   "execution_count": null,
   "id": "3432504f",
   "metadata": {
    "ExecuteTime": {
     "end_time": "2021-12-30T19:38:07.834468Z",
     "start_time": "2021-12-30T19:38:07.605482Z"
    },
    "hidden": true
   },
   "outputs": [],
   "source": [
    "import requests\n",
    "import pprint\n",
    "from gitsecrets import GITHUB_USER,GITHUB_TOKEN\n",
    "# Create auth for Git credentials\n",
    "auth=requests.auth.HTTPBasicAuth( GITHUB_USER  ,GITHUB_TOKEN )\n",
    "\n",
    "userRepoUrl = 'https://api.github.com/gists'\n",
    "myGistsUrl = userRepoUrl\n",
    "repoResponse = requests.get(myGistsUrl, auth=auth)"
   ]
  },
  {
   "cell_type": "markdown",
   "id": "77f00c9a",
   "metadata": {
    "hidden": true
   },
   "source": [
    "## Gists Report"
   ]
  },
  {
   "cell_type": "code",
   "execution_count": null,
   "id": "baedd36d",
   "metadata": {
    "ExecuteTime": {
     "end_time": "2021-12-30T19:38:13.474480Z",
     "start_time": "2021-12-30T19:38:13.458301Z"
    },
    "hidden": true
   },
   "outputs": [],
   "source": [
    "gists = repoResponse.json()\n",
    "for gist in gists:\n",
    "    print( gist['description'])\n",
    "    print('    Updated: ', gist['updated_at']  )\n",
    "    print('    Type:    ', 'Public' if gist['public'] else 'Private' )\n",
    "    print('    Html Url: ', gist['html_url']  )\n",
    "    print('    Comments: ', gist['comments']  )\n",
    "    \n",
    "    forks = requests.get(gist['forks_url'],auth=auth)\n",
    "    print('    Forks:    ',str(len(forks.json())))\n",
    "    files = gist['files']\n",
    "    print('    Files:')\n",
    "    for file,extra in files.items():\n",
    "        print('        File: ',file)\n",
    "    print('--')\n",
    "print('\\n----------')"
   ]
  },
  {
   "cell_type": "code",
   "execution_count": null,
   "id": "198f0b53",
   "metadata": {
    "hidden": true
   },
   "outputs": [],
   "source": []
  }
 ],
 "metadata": {
  "kernelspec": {
   "display_name": "Python 3 (ipykernel)",
   "language": "python",
   "name": "python3"
  },
  "language_info": {
   "codemirror_mode": {
    "name": "ipython",
    "version": 3
   },
   "file_extension": ".py",
   "mimetype": "text/x-python",
   "name": "python",
   "nbconvert_exporter": "python",
   "pygments_lexer": "ipython3",
   "version": "3.8.10"
  },
  "toc": {
   "base_numbering": 1,
   "nav_menu": {},
   "number_sections": true,
   "sideBar": true,
   "skip_h1_title": false,
   "title_cell": "Table of Contents",
   "title_sidebar": "Contents",
   "toc_cell": false,
   "toc_position": {
    "height": "411.991px",
    "left": "54px",
    "top": "53.97px",
    "width": "164.977px"
   },
   "toc_section_display": true,
   "toc_window_display": true
  },
  "varInspector": {
   "cols": {
    "lenName": 16,
    "lenType": 16,
    "lenVar": 40
   },
   "kernels_config": {
    "python": {
     "delete_cmd_postfix": "",
     "delete_cmd_prefix": "del ",
     "library": "var_list.py",
     "varRefreshCmd": "print(var_dic_list())"
    },
    "r": {
     "delete_cmd_postfix": ") ",
     "delete_cmd_prefix": "rm(",
     "library": "var_list.r",
     "varRefreshCmd": "cat(var_dic_list()) "
    }
   },
   "types_to_exclude": [
    "module",
    "function",
    "builtin_function_or_method",
    "instance",
    "_Feature"
   ],
   "window_display": false
  }
 },
 "nbformat": 4,
 "nbformat_minor": 5
}
